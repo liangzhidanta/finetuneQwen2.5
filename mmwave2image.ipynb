{
 "cells": [
  {
   "cell_type": "markdown",
   "id": "0065540c",
   "metadata": {},
   "source": [
    "# 数据预处理"
   ]
  },
  {
   "cell_type": "code",
   "execution_count": 14,
   "id": "7a16022a",
   "metadata": {},
   "outputs": [],
   "source": [
    "import torch\n",
    "import glob\n",
    "import os\n",
    "from collections import OrderedDict, defaultdict\n",
    "import math\n",
    "import random\n",
    "from tqdm import tqdm  # 引入 tqdm 库\n",
    "import time  # 引入 time 模块\n",
    "import argparse  # 引入 argparse 模块\n",
    "import sys\n",
    "import numpy as np\n",
    "import torch.optim as optim\n",
    "import torch.nn as nn\n",
    "from io import BytesIO\n",
    "from torch.utils.data import DataLoader, Subset, random_split\n",
    "import pandas as pd\n",
    "from PIL import Image\n",
    "import matplotlib.pyplot as plt\n",
    "import seaborn as sns\n",
    "from pathlib import Path\n",
    "import shutil\n"
   ]
  },
  {
   "cell_type": "code",
   "execution_count": 15,
   "id": "14c94db7",
   "metadata": {},
   "outputs": [
    {
     "data": {
      "text/plain": [
       "{'unit1_rgb': '/data2/wzj/Datasets/DeepSense/scenario1/unit1/camera_data/image_BS1_456_00_42_15.jpg',\n",
       " 'unit1_pwr_60ghz': '/data2/wzj/Datasets/DeepSense/scenario1/unit1/mmWave_data/mmWave_power_0.txt',\n",
       " 'unit1_loc': '/data2/wzj/Datasets/DeepSense/scenario1/unit1/GPS_data/gps_location.txt',\n",
       " 'unit1_beam_index': 2}"
      ]
     },
     "execution_count": 15,
     "metadata": {},
     "output_type": "execute_result"
    }
   ],
   "source": [
    "# 示例数据样本\n",
    "sample = {\n",
    "    'unit1_rgb': '/data2/wzj/Datasets/DeepSense/scenario1/unit1/camera_data/image_BS1_456_00_42_15.jpg',\n",
    "    'unit1_pwr_60ghz': '/data2/wzj/Datasets/DeepSense/scenario1/unit1/mmWave_data/mmWave_power_0.txt',\n",
    "    'unit1_loc': '/data2/wzj/Datasets/DeepSense/scenario1/unit1/GPS_data/gps_location.txt',\n",
    "    'unit1_beam_index': 2\n",
    "}\n",
    "sample"
   ]
  },
  {
   "cell_type": "markdown",
   "id": "cb69e212",
   "metadata": {},
   "source": [
    "## 热力图"
   ]
  },
  {
   "cell_type": "code",
   "execution_count": null,
   "id": "01e05632",
   "metadata": {},
   "outputs": [
    {
     "data": {
      "image/jpeg": "[encoded data removed]",
      "image/png": "[encoded data removed]",
      "text/plain": [
       "<PIL.Image.Image image mode=RGB size=224x224>"
      ]
     },
     "metadata": {},
     "output_type": "display_data"
    }
   ],
   "source": [
    "def mmwave_to_heatmap(mmwave_path, figsize=(3, 3), cmap=\"viridis\", normalize=True):\n",
    "    # 读取数据\n",
    "    with open(mmwave_path, 'r') as f:\n",
    "        lines = f.readlines()\n",
    "    \n",
    "    # 确保数据长度为64\n",
    "    if len(lines) != 64:\n",
    "        lines = lines[:64] if len(lines) > 64 else lines + ['0'] * (64 - len(lines))\n",
    "    \n",
    "    # 解析功率值并转换为8x8矩阵\n",
    "    powers = np.array([float(line.strip()) for line in lines]).reshape(8, 8)\n",
    "    \n",
    "    # 归一化处理\n",
    "    if normalize:\n",
    "        min_val, max_val = np.min(powers), np.max(powers)\n",
    "        if max_val > min_val:\n",
    "            powers = (powers - min_val) / (max_val - min_val)\n",
    "    \n",
    "    # 创建热力图\n",
    "    plt.figure(figsize=figsize)\n",
    "    sns.heatmap(\n",
    "        powers,\n",
    "        cmap=cmap,\n",
    "        annot=False,\n",
    "        cbar=False,\n",
    "        xticklabels=False,\n",
    "        yticklabels=False,\n",
    "        linewidths=0\n",
    "    )\n",
    "    plt.axis('off')  # 关闭所有坐标轴\n",
    "    \n",
    "    # 保存图像并调整尺寸\n",
    "    buf = BytesIO()\n",
    "    plt.savefig(buf, format='png', bbox_inches='tight', pad_inches=0)\n",
    "    buf.seek(0)\n",
    "    img = Image.open(buf).convert('RGB')\n",
    "    img = img.resize((112, 112), Image.Resampling.LANCZOS)\n",
    "    plt.close()\n",
    "    \n",
    "    return img\n",
    "\n",
    "# 生成并显示热力图\n",
    "mmwave_img = mmwave_to_heatmap(sample['unit1_pwr_60ghz'])\n",
    "display(mmwave_img)"
   ]
  },
  {
   "cell_type": "markdown",
   "id": "34a993de",
   "metadata": {},
   "source": [
    "## 柱状图"
   ]
  },
  {
   "cell_type": "code",
   "execution_count": 21,
   "id": "4deb848d",
   "metadata": {},
   "outputs": [
    {
     "data": {
      "image/jpeg": "[encoded data removed]",
      "image/png": "[encoded data removed]",
      "text/plain": [
       "<PIL.Image.Image image mode=RGB size=224x224>"
      ]
     },
     "metadata": {},
     "output_type": "display_data"
    }
   ],
   "source": [
    "def mmwave_to_barplot(mmwave_path, figsize=(3, 3), cmap=\"viridis\", normalize=True):\n",
    "    \"\"\"生成毫米波数据柱状图（无任何文字）\"\"\"\n",
    "    # 读取数据\n",
    "    with open(mmwave_path, 'r') as f:\n",
    "        lines = f.readlines()\n",
    "    \n",
    "    # 确保数据长度为64\n",
    "    if len(lines) != 64:\n",
    "        lines = lines[:64] if len(lines) > 64 else lines + ['0'] * (64 - len(lines))\n",
    "    \n",
    "    # 解析功率值\n",
    "    powers = np.array([float(line.strip()) for line in lines])\n",
    "    \n",
    "    # 归一化（用于颜色映射）\n",
    "    if normalize:\n",
    "        min_val, max_val = np.min(powers), np.max(powers)\n",
    "        if max_val > min_val:\n",
    "            norm_powers = (powers - min_val) / (max_val - min_val)\n",
    "        else:\n",
    "            norm_powers = np.zeros_like(powers)\n",
    "    else:\n",
    "        norm_powers = powers\n",
    "    \n",
    "    # 创建颜色映射（使用新的Matplotlib API）\n",
    "    cmap = plt.colormaps.get_cmap(cmap)  # 修复弃用警告\n",
    "    colors = cmap(norm_powers)\n",
    "    \n",
    "    # 创建柱状图\n",
    "    plt.figure(figsize=figsize)\n",
    "    plt.bar(\n",
    "        x=np.arange(64),\n",
    "        height=powers,\n",
    "        color=colors,\n",
    "        width=1.0,\n",
    "        align='center'\n",
    "    )\n",
    "    plt.xlim(-0.5, 63.5)  # 设置x轴范围，确保柱状图填充整个可视区域，消除左右空白\n",
    "    # 完全去除边框和坐标轴\n",
    "    plt.gca().spines['top'].set_visible(False)\n",
    "    plt.gca().spines['right'].set_visible(False)\n",
    "    plt.gca().spines['bottom'].set_visible(False)\n",
    "    plt.gca().spines['left'].set_visible(False)\n",
    "    plt.xticks([])\n",
    "    plt.yticks([])\n",
    "    plt.axis('off')\n",
    "    \n",
    "    # 保存图像并调整尺寸\n",
    "    buf = BytesIO()\n",
    "    plt.savefig(buf, format='png', bbox_inches='tight', pad_inches=0)\n",
    "    buf.seek(0)\n",
    "    img = Image.open(buf).convert('RGB')\n",
    "    img = img.resize((224, 224), Image.Resampling.LANCZOS)\n",
    "    plt.close()\n",
    "    \n",
    "    return img\n",
    "mmwave_img = mmwave_to_barplot(sample['unit1_pwr_60ghz'])\n",
    "display(mmwave_img)"
   ]
  },
  {
   "cell_type": "code",
   "execution_count": 22,
   "id": "de13046a",
   "metadata": {},
   "outputs": [],
   "source": [
    "def process_all_scenarios(input_base_dir, output_base_dir, scenarios=range(1, 10), file_ext='.txt', **kwargs):\n",
    "    \"\"\"\n",
    "    处理所有场景的毫米波数据（修正版：仅处理unit1/mmWave_data目录）\n",
    "    \n",
    "    Args:\n",
    "        input_base_dir (str): 输入数据根目录\n",
    "        output_base_dir (str): 输出数据根目录\n",
    "        scenarios (iterable): 要处理的情景编号（默认1-9）\n",
    "        file_ext (str): 目标文件扩展名\n",
    "        **kwargs: 传递给mmwave_to_heatmap的参数\n",
    "    \"\"\"\n",
    "    for scenario_num in scenarios:\n",
    "        # 构建具体输入路径（关键修改点1：直接定位到目标子目录）\n",
    "        scenario_input = os.path.join(\n",
    "            input_base_dir, \n",
    "            f\"scenario{scenario_num}\",\n",
    "            \"unit1\",  # 固定unit1层级\n",
    "            \"mmWave_data\"  # 固定数据目录\n",
    "        )\n",
    "        \n",
    "        # 构建对应输出路径（保持相同子目录结构）\n",
    "        scenario_output = os.path.join(\n",
    "            output_base_dir,\n",
    "            f\"scenario{scenario_num}\",\n",
    "            \"unit1\",\n",
    "            \"mmWave_heatmap\"\n",
    "        )\n",
    "        \n",
    "        # 确保输入目录存在\n",
    "        if not os.path.exists(scenario_input):\n",
    "            print(f\"警告：输入目录不存在 {scenario_input}\")\n",
    "            continue\n",
    "            \n",
    "        # 创建输出目录\n",
    "        os.makedirs(scenario_output, exist_ok=True)\n",
    "        \n",
    "        # 获取目标文件列表（关键修改点3：直接处理该目录下的文件）\n",
    "        try:\n",
    "            files = [f for f in os.listdir(scenario_input) if f.endswith(file_ext)]\n",
    "        except Exception as e:\n",
    "            print(f\"无法读取目录 {scenario_input}: {str(e)}\")\n",
    "            continue\n",
    "            \n",
    "        # 添加进度条（新增功能）\n",
    "        with tqdm(total=len(files), desc=f\"场景 {scenario_num}\") as pbar:\n",
    "            for filename in files:\n",
    "                input_path = os.path.join(scenario_input, filename)\n",
    "                output_path = os.path.join(scenario_output, f\"{os.path.splitext(filename)[0]}.png\")\n",
    "                \n",
    "                try:\n",
    "                    img = mmwave_to_heatmap(input_path, **kwargs)\n",
    "                    img.save(output_path)\n",
    "                except Exception as e:\n",
    "                    print(f\"\\n处理失败：{input_path} -> {str(e)}\")\n",
    "                finally:\n",
    "                    pbar.update(1)  # 更新进度条\n"
   ]
  },
  {
   "cell_type": "markdown",
   "id": "3c079b2d",
   "metadata": {},
   "source": [
    "## 批量生成热力图\n"
   ]
  },
  {
   "cell_type": "code",
   "execution_count": 23,
   "id": "3a497c37",
   "metadata": {},
   "outputs": [
    {
     "name": "stderr",
     "output_type": "stream",
     "text": [
      "场景 1: 100%|██████████| 2422/2422 [01:30<00:00, 26.89it/s]\n",
      "场景 2: 100%|██████████| 2974/2974 [01:01<00:00, 48.59it/s]\n",
      "场景 3: 100%|██████████| 1487/1487 [00:35<00:00, 41.39it/s]\n",
      "场景 4: 100%|██████████| 1867/1867 [00:40<00:00, 45.97it/s]\n",
      "场景 5: 100%|██████████| 2300/2300 [00:51<00:00, 44.44it/s]\n",
      "场景 6: 100%|██████████| 915/915 [00:17<00:00, 53.07it/s]\n",
      "场景 7: 100%|██████████| 854/854 [00:16<00:00, 52.87it/s]\n",
      "场景 8: 100%|██████████| 4043/4043 [01:27<00:00, 46.17it/s]\n",
      "场景 9: 100%|██████████| 5964/5964 [02:19<00:00, 42.82it/s] \n"
     ]
    }
   ],
   "source": [
    "# 输入数据根目录（根据实际路径修改）\n",
    "input_root = \"/data2/wzj/Datasets/DeepSense\"\n",
    "# 输出数据根目录（根据实际路径修改）\n",
    "output_root = \"/data2/wzj/Datasets/DeepSense\"\n",
    "\n",
    "process_all_scenarios(\n",
    "    input_base_dir=input_root,\n",
    "    output_base_dir=output_root,\n",
    "    scenarios=range(1, 10),  # 处理scenario1-9\n",
    "    file_ext=\".txt\",\n",
    "    figsize=(3, 3),\n",
    "    cmap=\"viridis\",\n",
    "    normalize=True\n",
    ")"
   ]
  },
  {
   "cell_type": "markdown",
   "id": "b3b83b41",
   "metadata": {},
   "source": [
    "## 将生成的热力图添加到scenario.csv文件中"
   ]
  },
  {
   "cell_type": "code",
   "execution_count": 39,
   "id": "b69f8e3b",
   "metadata": {},
   "outputs": [],
   "source": [
    "\n",
    "def add_heatmap_column_only(csv_path, backup=True):\n",
    "    \"\"\" 更新列内容（无论列是否存在） \"\"\"\n",
    "    try:\n",
    "        csv_path = Path(csv_path)\n",
    "        df = pd.read_csv(csv_path)\n",
    "        original_shape = df.shape\n",
    "        \n",
    "        # 路径生成逻辑\n",
    "        def get_heatmap_path(pwr_path):\n",
    "            try:\n",
    "                p = Path(pwr_path)\n",
    "                return \"./\" + str(\n",
    "                    p.parent.parent / \"mmWave_heatmap\" / p.with_suffix(\".png\").name\n",
    "                )\n",
    "            except:\n",
    "                return \"\"\n",
    "        \n",
    "        # 强制更新列内容\n",
    "        df[\"unit1_mmwave_heatmap\"] = df[\"unit1_pwr_60ghz\"].apply(get_heatmap_path)\n",
    "        \n",
    "        # 安全验证\n",
    "        if df.shape != original_shape:\n",
    "            raise ValueError(f\"数据维度从 {original_shape} 变为 {df.shape}\")\n",
    "            \n",
    "        # 条件备份\n",
    "        backup_path = csv_path.with_name(csv_path.stem + \"_backup.csv\")\n",
    "        if backup and not backup_path.exists():\n",
    "            shutil.copy(csv_path, backup_path)\n",
    "        \n",
    "        df.to_csv(csv_path, index=False)\n",
    "        return True\n",
    "    except Exception as e:\n",
    "        print(f\"处理失败：{csv_path} -> {str(e)}\")\n",
    "        return False\n",
    "\n",
    "def batch_process_scenarios():\n",
    "    \"\"\" 批量处理场景1-9 \"\"\"\n",
    "    base_dir = \"/data2/wzj/Datasets/DeepSense\"\n",
    "    \n",
    "    for i in range(1, 10):\n",
    "        csv_path = Path(base_dir) / f\"scenario{i}\" / f\"scenario{i}.csv\"\n",
    "        if csv_path.exists():\n",
    "            print(f\"处理场景 {i}\")\n",
    "            add_heatmap_column_only(csv_path)\n",
    "        else:\n",
    "            print(f\"跳过不存在的文件：{csv_path}\")"
   ]
  },
  {
   "cell_type": "code",
   "execution_count": 40,
   "id": "9e8420cb",
   "metadata": {},
   "outputs": [
    {
     "name": "stdout",
     "output_type": "stream",
     "text": [
      "处理场景 1\n",
      "处理场景 2\n",
      "处理场景 3\n",
      "处理场景 4\n",
      "处理场景 5\n",
      "处理场景 6\n",
      "处理场景 7\n",
      "处理场景 8\n",
      "处理场景 9\n"
     ]
    }
   ],
   "source": [
    "batch_process_scenarios()"
   ]
  },
  {
   "cell_type": "markdown",
   "id": "2a58817e",
   "metadata": {},
   "source": [
    "## 加载数据查看效果"
   ]
  },
  {
   "cell_type": "code",
   "execution_count": 41,
   "id": "aad7da07",
   "metadata": {},
   "outputs": [
    {
     "data": {
      "application/vnd.jupyter.widget-view+json": {
       "model_id": "3d858b3510494bd89795fa76a32afdc2",
       "version_major": 2,
       "version_minor": 0
      },
      "text/plain": [
       "Generating train split: 0 examples [00:00, ? examples/s]"
      ]
     },
     "metadata": {},
     "output_type": "display_data"
    },
    {
     "name": "stdout",
     "output_type": "stream",
     "text": [
      "成功加载 /data2/wzj/Datasets/DeepSense/scenario1/scenario1.csv: 2411 个样本\n"
     ]
    },
    {
     "data": {
      "application/vnd.jupyter.widget-view+json": {
       "model_id": "46b4799828a54f37ab174a391258cf20",
       "version_major": 2,
       "version_minor": 0
      },
      "text/plain": [
       "Generating train split: 0 examples [00:00, ? examples/s]"
      ]
     },
     "metadata": {},
     "output_type": "display_data"
    },
    {
     "name": "stdout",
     "output_type": "stream",
     "text": [
      "成功加载 /data2/wzj/Datasets/DeepSense/scenario2/scenario2.csv: 2974 个样本\n"
     ]
    },
    {
     "data": {
      "application/vnd.jupyter.widget-view+json": {
       "model_id": "522459ab5a564f5899d6476a5e04785e",
       "version_major": 2,
       "version_minor": 0
      },
      "text/plain": [
       "Generating train split: 0 examples [00:00, ? examples/s]"
      ]
     },
     "metadata": {},
     "output_type": "display_data"
    },
    {
     "name": "stdout",
     "output_type": "stream",
     "text": [
      "成功加载 /data2/wzj/Datasets/DeepSense/scenario3/scenario3.csv: 1487 个样本\n"
     ]
    },
    {
     "data": {
      "application/vnd.jupyter.widget-view+json": {
       "model_id": "33cd6d1a55bf4aee8368376ce48c39a5",
       "version_major": 2,
       "version_minor": 0
      },
      "text/plain": [
       "Generating train split: 0 examples [00:00, ? examples/s]"
      ]
     },
     "metadata": {},
     "output_type": "display_data"
    },
    {
     "name": "stdout",
     "output_type": "stream",
     "text": [
      "成功加载 /data2/wzj/Datasets/DeepSense/scenario4/scenario4.csv: 1867 个样本\n"
     ]
    },
    {
     "data": {
      "application/vnd.jupyter.widget-view+json": {
       "model_id": "349ea7c6e27743bba44fcc557c3e2b70",
       "version_major": 2,
       "version_minor": 0
      },
      "text/plain": [
       "Generating train split: 0 examples [00:00, ? examples/s]"
      ]
     },
     "metadata": {},
     "output_type": "display_data"
    },
    {
     "name": "stdout",
     "output_type": "stream",
     "text": [
      "成功加载 /data2/wzj/Datasets/DeepSense/scenario5/scenario5.csv: 2300 个样本\n"
     ]
    },
    {
     "data": {
      "application/vnd.jupyter.widget-view+json": {
       "model_id": "974e609761f04ab9be576f422916939c",
       "version_major": 2,
       "version_minor": 0
      },
      "text/plain": [
       "Generating train split: 0 examples [00:00, ? examples/s]"
      ]
     },
     "metadata": {},
     "output_type": "display_data"
    },
    {
     "name": "stdout",
     "output_type": "stream",
     "text": [
      "成功加载 /data2/wzj/Datasets/DeepSense/scenario6/scenario6.csv: 915 个样本\n"
     ]
    },
    {
     "data": {
      "application/vnd.jupyter.widget-view+json": {
       "model_id": "8cd42742a38d470a805dfca42015c9ac",
       "version_major": 2,
       "version_minor": 0
      },
      "text/plain": [
       "Generating train split: 0 examples [00:00, ? examples/s]"
      ]
     },
     "metadata": {},
     "output_type": "display_data"
    },
    {
     "name": "stdout",
     "output_type": "stream",
     "text": [
      "成功加载 /data2/wzj/Datasets/DeepSense/scenario7/scenario7.csv: 854 个样本\n"
     ]
    },
    {
     "data": {
      "application/vnd.jupyter.widget-view+json": {
       "model_id": "9b28a12886254a5a8a3e1a29294a4414",
       "version_major": 2,
       "version_minor": 0
      },
      "text/plain": [
       "Generating train split: 0 examples [00:00, ? examples/s]"
      ]
     },
     "metadata": {},
     "output_type": "display_data"
    },
    {
     "name": "stdout",
     "output_type": "stream",
     "text": [
      "成功加载 /data2/wzj/Datasets/DeepSense/scenario8/scenario8.csv: 4043 个样本\n",
      "合并后的总样本数: 16851\n",
      "Dataset({\n",
      "    features: ['index', 'unit1_rgb', 'unit1_pwr_60ghz', 'unit1_loc', 'unit2_loc', 'Unnamed: 5', 'unit1_beam_index', 'seq_index', 'time_stamp[UTC]', 'unit2_direction', 'unit2_num_sat', 'unit2_sat_used', 'unit2_fix_type', 'unit2_DGPS', 'unit2_PDOP', 'unit2_HDOP', 'unit1_mmwave_heatmap', 'unit1_lidar', 'unit1_lidar_SCR', 'unit2_loc_cal', 'Unnamed: 8'],\n",
      "    num_rows: 16851\n",
      "})\n",
      "16851\n",
      "['index', 'unit1_rgb', 'unit1_pwr_60ghz', 'unit1_loc', 'unit2_loc', 'Unnamed: 5', 'unit1_beam_index', 'seq_index', 'time_stamp[UTC]', 'unit2_direction', 'unit2_num_sat', 'unit2_sat_used', 'unit2_fix_type', 'unit2_DGPS', 'unit2_PDOP', 'unit2_HDOP', 'unit1_mmwave_heatmap', 'unit1_lidar', 'unit1_lidar_SCR', 'unit2_loc_cal', 'Unnamed: 8']\n"
     ]
    }
   ],
   "source": [
    "from datasets import load_dataset, concatenate_datasets\n",
    "\n",
    "# 手动指定场景 1-8 的路径\n",
    "scenario_paths = [f'/data2/wzj/Datasets/DeepSense/scenario{i}/scenario{i}.csv' for i in range(1, 9)]\n",
    "\n",
    "# 分别加载每个场景的数据集\n",
    "datasets_list = []\n",
    "for path in scenario_paths:\n",
    "    try:\n",
    "        subset = load_dataset('csv', data_files=path, split='train')\n",
    "        print(f\"成功加载 {path}: {len(subset)} 个样本\")\n",
    "        datasets_list.append(subset)\n",
    "    except Exception as e:\n",
    "        print(f\"加载失败: {path} - 错误: {e}\")\n",
    "\n",
    "# 合并所有有效数据集\n",
    "if datasets_list:\n",
    "    dataset = concatenate_datasets(datasets_list)\n",
    "    print(f\"合并后的总样本数: {len(dataset)}\")\n",
    "else:\n",
    "    print(\"未找到任何有效 CSV 文件！\")\n",
    "\n",
    "print(dataset)  # 查看数据集的基本信息\n",
    "print(dataset.num_rows)  # 查看行数\n",
    "print(dataset.column_names)  # 查看列名\n"
   ]
  },
  {
   "cell_type": "code",
   "execution_count": 42,
   "id": "352f24a6",
   "metadata": {},
   "outputs": [
    {
     "name": "stdout",
     "output_type": "stream",
     "text": [
      "['./unit1/mmWave_heatmap/mmWave_power_0.png']\n"
     ]
    }
   ],
   "source": [
    "print(dataset['unit1_mmwave_heatmap'][:1])"
   ]
  }
 ],
 "metadata": {
  "kernelspec": {
   "display_name": "Python (mllm)",
   "language": "python",
   "name": "mllm"
  },
  "language_info": {
   "codemirror_mode": {
    "name": "ipython",
    "version": 3
   },
   "file_extension": ".py",
   "mimetype": "text/x-python",
   "name": "python",
   "nbconvert_exporter": "python",
   "pygments_lexer": "ipython3",
   "version": "3.10.16"
  }
 },
 "nbformat": 4,
 "nbformat_minor": 5
}
